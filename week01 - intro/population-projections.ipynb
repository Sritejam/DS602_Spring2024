{
 "cells": [
  {
   "cell_type": "markdown",
   "metadata": {},
   "source": [
    "# Population Projections\n",
    "\n",
    "## Resources:\n",
    "[pandas Melt](https://pandas.pydata.org/docs/reference/api/pandas.melt.html)\n",
    "<br>[pandas Query](https://pandas.pydata.org/docs/reference/api/pandas.DataFrame.query.html)\n"
   ]
  },
  {
   "cell_type": "code",
   "execution_count": null,
   "metadata": {},
   "outputs": [],
   "source": [
    "import pandas as pd\n",
    "import numpy as np\n",
    "import matplotlib.pyplot as plt\n",
    "%matplotlib inline\n",
    "\n",
    "dfUrl = 'https://www2.census.gov/programs-surveys/popproj/datasets/2017/2017-popproj/np2017_d1_mid.csv'\n",
    "\n",
    "df = pd.read_csv(dfUrl)\n",
    "df.info()"
   ]
  },
  {
   "cell_type": "code",
   "execution_count": null,
   "metadata": {},
   "outputs": [],
   "source": [
    "print(f'Rows: {df.shape[0]:,}')\n",
    "print(f'Columns: {df.shape[1]:,}')"
   ]
  },
  {
   "cell_type": "code",
   "execution_count": null,
   "metadata": {},
   "outputs": [],
   "source": [
    "df.columns"
   ]
  },
  {
   "cell_type": "code",
   "execution_count": null,
   "metadata": {},
   "outputs": [],
   "source": [
    "df.head()"
   ]
  },
  {
   "cell_type": "markdown",
   "metadata": {},
   "source": [
    "## File layout\n",
    "- SEX: sex, see key  \n",
    "- ORIGIN: Hispanic origin, see key  \n",
    "- RACE: see key  \n",
    "- YEAR: year of population projection  \n",
    "- TOTAL_POP: total population, all ages combined  \n",
    "- (POP_0, POP_1, ...POP_99, POP_100): population for given age  \n",
    "\n",
    "The key for ORIGIN is as follows:\n",
    "- 0 = Total  \n",
    "- 1 = Not Hispanic  \n",
    "- 2 = Hispanic  \n",
    "\n",
    "The key for RACE is as follows:\n",
    "- 0 = All races (codes 1 through 6)  \n",
    "- 1 = White alone  \n",
    "- 2 = Black alone  \n",
    "- 3 = AIAN alone  \n",
    "- 4 = Asian alone  \n",
    "- 5 = NHPI alone  \n",
    "- 6 = Two or More Races  \n",
    "- 7 = White alone or in combination  \n",
    "- 8 = Black alone or in combination  \n",
    "- 9 = AIAN alone or in combination  \n",
    "- 10 = Asian alone or in combination  \n",
    "- 11 = NHPI alone or in combination\n",
    "\n",
    "The key for SEX is as follows:\n",
    "- 0 = Both sexes  \n",
    "- 1 = Male  \n",
    "- 2 = Female  \n",
    "      \n",
    "NOTE: Hispanic origin is considered an ethnicity, not a race. Hispanics may be of any race."
   ]
  },
  {
   "cell_type": "markdown",
   "metadata": {},
   "source": [
    "## Original question:\n",
    "We need to understand what the 85+ population looks like over time and understand trends in its annual growth rate. Probably don't need to worry about ORIGIN, RACE, or SEX so we can filter down to the aggregate values.\n",
    "\n",
    "## Things to consider\n",
    "- This dataset is very wide, likely want to consider converting to a long format  \n",
    "- There are aggregations included with the raw data\n",
    "- Haven't determined if there are nulls/missing data yet   "
   ]
  },
  {
   "cell_type": "markdown",
   "metadata": {},
   "source": [
    "### Let's get checking for null values out of the way!"
   ]
  },
  {
   "cell_type": "code",
   "execution_count": null,
   "metadata": {},
   "outputs": [],
   "source": [
    "df.isna().sum().value_counts(dropna=False)"
   ]
  },
  {
   "cell_type": "code",
   "execution_count": null,
   "metadata": {},
   "outputs": [],
   "source": [
    "df.dropna().shape"
   ]
  },
  {
   "cell_type": "markdown",
   "metadata": {},
   "source": [
    "__No missing values in any of the columns!__"
   ]
  },
  {
   "cell_type": "markdown",
   "metadata": {},
   "source": [
    "### But we still have a very wide dataset, so we should convert it to long dataset via \"melt\".\n",
    "And we'll want to filter down to the overall population by year."
   ]
  },
  {
   "cell_type": "code",
   "execution_count": null,
   "metadata": {},
   "outputs": [],
   "source": [
    "# df.query('ORIGIN==0 and RACE==0 and SEX==0') \\\n",
    "# .drop(columns=['ORIGIN','RACE','SEX','TOTAL_POP']) \\\n",
    "# .melt(id_vars='YEAR', var_name='POP_AGE', value_name='POP') \\\n",
    "# .query('YEAR==2016')\n"
   ]
  },
  {
   "cell_type": "code",
   "execution_count": null,
   "metadata": {},
   "outputs": [],
   "source": [
    "# (\n",
    "#     df.query(\"ORIGIN==0 and RACE==0 and SEX==0\")\n",
    "#     .drop(columns=['ORIGIN','RACE','SEX','TOTAL_POP'])\n",
    "#     .melt(id_vars='YEAR', var_name='POP_AGE', value_name='POP')\n",
    "# )"
   ]
  },
  {
   "cell_type": "code",
   "execution_count": null,
   "metadata": {},
   "outputs": [],
   "source": [
    "dfLong = (\n",
    "    df.query(\"ORIGIN==0 and RACE==0 and SEX==0\")\n",
    "    .drop(columns=['ORIGIN','RACE','SEX','TOTAL_POP'])\n",
    "    .melt(id_vars='YEAR', var_name='POP_AGE', value_name='POP')\n",
    ")\n",
    "\n",
    "dfLong.head()"
   ]
  },
  {
   "cell_type": "markdown",
   "metadata": {},
   "source": [
    "### Extract the age"
   ]
  },
  {
   "cell_type": "code",
   "execution_count": null,
   "metadata": {},
   "outputs": [],
   "source": [
    "\n",
    "# dfLong['AGE'] = dfLong['POP_AGE'].apply(lambda x: int(x.split('_')[1]))\n",
    "dfLong['AGE'] = [ int(x.split('_')[1]) for x in dfLong['POP_AGE'] ]\n",
    "dfLong = dfLong.drop(columns=['POP_AGE'])\n",
    "dfLong.head()"
   ]
  },
  {
   "cell_type": "code",
   "execution_count": null,
   "metadata": {},
   "outputs": [],
   "source": [
    "# dfLong.query('YEAR==2016').head()"
   ]
  },
  {
   "cell_type": "markdown",
   "metadata": {},
   "source": [
    "### Let's look at the distribution for 2021"
   ]
  },
  {
   "cell_type": "code",
   "execution_count": null,
   "metadata": {},
   "outputs": [],
   "source": [
    "dfLong.query(\"YEAR==2021\")['POP'].sum()"
   ]
  },
  {
   "cell_type": "code",
   "execution_count": null,
   "metadata": {},
   "outputs": [],
   "source": [
    "total2021 = dfLong.query(\"YEAR==2021\")[\"POP\"].sum()"
   ]
  },
  {
   "cell_type": "code",
   "execution_count": null,
   "metadata": {},
   "outputs": [],
   "source": [
    "(\n",
    "    dfLong.query('YEAR==2021')\n",
    "    .plot(x='AGE', y='POP', kind='line', legend=False)\n",
    ")\n",
    "\n",
    "plt.title(f'US age distribution for 2021 (total={total2021:,})', loc='left')\n",
    "plt.xlabel('Age')\n",
    "plt.ylabel('# of people')\n",
    "plt.show()"
   ]
  },
  {
   "cell_type": "markdown",
   "metadata": {},
   "source": [
    "### Make sure that total squares: https://www.census.gov\n",
    "You want to avoid showing data that is levels of magnitude out of expected bounds."
   ]
  },
  {
   "cell_type": "markdown",
   "metadata": {},
   "source": [
    "### How will this shape compare against 2050?"
   ]
  },
  {
   "cell_type": "code",
   "execution_count": null,
   "metadata": {},
   "outputs": [],
   "source": [
    "# (\n",
    "#     dfLong.query('YEAR==2021 or YEAR==2050')\n",
    "#     .pivot_table(index='AGE', columns='YEAR', values='POP')\n",
    "# )"
   ]
  },
  {
   "cell_type": "code",
   "execution_count": null,
   "metadata": {},
   "outputs": [],
   "source": [
    "yearCompare = (\n",
    "    dfLong.query('YEAR==2021 or YEAR==2050')\n",
    "    .pivot_table(index='AGE', columns='YEAR', values='POP')\n",
    ")\n",
    "\n",
    "yearCompare.head()"
   ]
  },
  {
   "cell_type": "code",
   "execution_count": null,
   "metadata": {
    "scrolled": false
   },
   "outputs": [],
   "source": [
    "yearCompare.plot(kind='line')\n",
    "plt.title(f'US age distribution for 2021 vs. 2050', loc='left')\n",
    "plt.xlabel('Age')\n",
    "plt.ylabel('# of people')\n",
    "plt.legend(title='')\n",
    "plt.show()"
   ]
  },
  {
   "cell_type": "markdown",
   "metadata": {},
   "source": [
    "__This is probably more meaningful on a percent basis since population will grow over time. We should probably account for population differences and measure this on a percent basis.__"
   ]
  },
  {
   "cell_type": "code",
   "execution_count": null,
   "metadata": {},
   "outputs": [],
   "source": [
    "yearCompare.head()"
   ]
  },
  {
   "cell_type": "code",
   "execution_count": null,
   "metadata": {},
   "outputs": [],
   "source": [
    "yearCompareSum = yearCompare.sum(axis=0)\n",
    "yearCompareSum"
   ]
  },
  {
   "cell_type": "markdown",
   "metadata": {},
   "source": [
    "[DataFrame.div](https://pandas.pydata.org/docs/reference/api/pandas.DataFrame.div.html)"
   ]
  },
  {
   "cell_type": "code",
   "execution_count": null,
   "metadata": {},
   "outputs": [],
   "source": [
    "(\n",
    "    yearCompare.div(yearCompareSum, axis=1)\n",
    "    .plot(kind='line')\n",
    ")\n",
    "\n",
    "plt.title(f'US age distribution for 2021 vs. 2050', loc='left')\n",
    "plt.xlabel('Age')\n",
    "plt.ylabel('% of population')\n",
    "plt.legend(title='')\n",
    "plt.show()"
   ]
  },
  {
   "cell_type": "markdown",
   "metadata": {},
   "source": [
    "#### How does this compare with the prior plot?\n",
    "This shows that on average, the population is aging. The original plot seemed to show more younger individuals in the out year, but that's a product of a larger overall population. We should observe the growth rate for the older population increasing, as a way to check our math."
   ]
  },
  {
   "cell_type": "markdown",
   "metadata": {},
   "source": [
    "### Let's create our growth rate plot"
   ]
  },
  {
   "cell_type": "code",
   "execution_count": null,
   "metadata": {},
   "outputs": [],
   "source": [
    "pop85 = (\n",
    "    dfLong.query('AGE>=85')\n",
    "    .groupby('YEAR')['POP']\n",
    "    .sum()\n",
    ")\n",
    "pop85.head()"
   ]
  },
  {
   "cell_type": "markdown",
   "metadata": {},
   "source": [
    "[DataFrame.shift](https://pandas.pydata.org/docs/reference/api/pandas.DataFrame.shift.html)"
   ]
  },
  {
   "cell_type": "code",
   "execution_count": null,
   "metadata": {},
   "outputs": [],
   "source": [
    "pop85.head().shift(1)"
   ]
  },
  {
   "cell_type": "code",
   "execution_count": null,
   "metadata": {},
   "outputs": [],
   "source": [
    "pop85Growth = ( pop85 / pop85.shift(1) ) - 1\n",
    "pop85Growth.head()"
   ]
  },
  {
   "cell_type": "code",
   "execution_count": null,
   "metadata": {},
   "outputs": [],
   "source": [
    "pop85Growth.tail()"
   ]
  },
  {
   "cell_type": "code",
   "execution_count": null,
   "metadata": {},
   "outputs": [],
   "source": [
    "pop85Growth.plot(kind='line')\n",
    "\n",
    "plt.title('Growth rate of 85+ population', loc='left')\n",
    "plt.show()"
   ]
  },
  {
   "cell_type": "markdown",
   "metadata": {},
   "source": [
    "__Growth rates help show the growth, but having a baseline, maybe the under 84 age group would be helpful to see the contrast.__"
   ]
  },
  {
   "cell_type": "code",
   "execution_count": null,
   "metadata": {},
   "outputs": [],
   "source": [
    "popU84 = (\n",
    "    dfLong.query('AGE<85')\n",
    "    .groupby('YEAR')['POP'].sum()\n",
    ")\n",
    "\n",
    "popU84Growth = (popU84 / popU84.shift(1)) - 1\n",
    "\n",
    "pop85Growth.plot(kind='line')\n",
    "popU84Growth.plot(kind='line')\n",
    "plt.title('Growth rate 85+ population versus under 85 population', loc='left')\n",
    "plt.legend(['85 and over','Under 85'], title='Age Group')\n",
    "plt.show()"
   ]
  },
  {
   "cell_type": "markdown",
   "metadata": {},
   "source": [
    "## We can also look at different parts of the distribution over time?\n",
    "We can cut the data into bins, if you aren't familiar, you can look at the documentation:\n",
    "\n",
    "```python\n",
    "help(pd.cut)\n",
    "```\n",
    "\n",
    "[DataFrame.cut](https://pandas.pydata.org/docs/reference/api/pandas.cut.html)"
   ]
  },
  {
   "cell_type": "code",
   "execution_count": null,
   "metadata": {},
   "outputs": [],
   "source": [
    "dfLong.describe()"
   ]
  },
  {
   "cell_type": "code",
   "execution_count": null,
   "metadata": {},
   "outputs": [],
   "source": [
    "dfLong['AGE_BINS'] = pd.cut(dfLong['AGE'], 6)\n",
    "dfLong"
   ]
  },
  {
   "cell_type": "code",
   "execution_count": null,
   "metadata": {},
   "outputs": [],
   "source": [
    "dfLong['AGE_BINS'].value_counts()"
   ]
  },
  {
   "cell_type": "code",
   "execution_count": null,
   "metadata": {},
   "outputs": [],
   "source": [
    "( dfLong\n",
    "    .pivot_table(index='YEAR', columns='AGE_BINS', values='POP', aggfunc='sum')\n",
    ").head()"
   ]
  },
  {
   "cell_type": "code",
   "execution_count": null,
   "metadata": {},
   "outputs": [],
   "source": [
    "(\n",
    "    dfLong\n",
    "    .pivot_table(index='YEAR', columns='AGE_BINS', values='POP', aggfunc='sum')\n",
    "    .plot(kind='line', subplots=True, layout=(2,3), figsize=(8,8))\n",
    ")\n",
    "plt.show()"
   ]
  },
  {
   "cell_type": "markdown",
   "metadata": {},
   "source": [
    "This is interesting. Beginning in the mid-2020s into the early-2030s, some groups are actually experiencing declines in their population. It looks like there will also be unfettered growth in the youngest age groups."
   ]
  },
  {
   "cell_type": "markdown",
   "metadata": {},
   "source": [
    "__Let's peel the onion more. Let's look at which races may be driving some of these trends.__\n",
    "> Remember \"0 = All races (codes 1 through 6)  \""
   ]
  },
  {
   "cell_type": "code",
   "execution_count": null,
   "metadata": {},
   "outputs": [],
   "source": [
    "raceFilter = [1,2,3,4,5,6]\n",
    "\n",
    "raceMap = {1:'White alone',\n",
    "           2:'Black alone',\n",
    "           3:'AIAN alone', \n",
    "           4:'Asian alone', \n",
    "           5:'NHPI alone', \n",
    "           6:'Two or More Races'\n",
    "          }"
   ]
  },
  {
   "cell_type": "code",
   "execution_count": null,
   "metadata": {},
   "outputs": [],
   "source": [
    "dfLongRace = (\n",
    "    df.query(\"ORIGIN==0 and RACE==@raceFilter and SEX==0\")\n",
    "    .drop(columns=['ORIGIN','SEX','TOTAL_POP'])\n",
    "    .melt(id_vars=['YEAR','RACE'], var_name='POP_AGE', value_name='POP')\n",
    ")\n",
    "\n",
    "dfLongRace.head()"
   ]
  },
  {
   "cell_type": "code",
   "execution_count": null,
   "metadata": {},
   "outputs": [],
   "source": [
    "dfLongRace['RACE_DESC'] = dfLongRace['RACE'].map(raceMap)\n",
    "dfLongRace['AGE'] = dfLongRace['POP_AGE'].apply(lambda x: int(x.split('_')[1]))\n",
    "dfLongRace = dfLongRace.drop(columns=['POP_AGE', 'RACE'])\n",
    "\n",
    "dfLongRace.head()"
   ]
  },
  {
   "cell_type": "code",
   "execution_count": null,
   "metadata": {},
   "outputs": [],
   "source": [
    "dfRacePivot = dfLongRace.pivot_table(index='YEAR', columns='RACE_DESC', values='POP', aggfunc='sum')\n",
    "dfRacePivot.head()"
   ]
  },
  {
   "cell_type": "code",
   "execution_count": null,
   "metadata": {},
   "outputs": [],
   "source": [
    "dfRacePivot.iloc[0,:] # 2016"
   ]
  },
  {
   "cell_type": "code",
   "execution_count": null,
   "metadata": {},
   "outputs": [],
   "source": [
    "\n",
    "(dfRacePivot/dfRacePivot.iloc[0,:]).plot(kind='line')\n",
    "plt.title('Population growth by race, indexed to 100 in 2016')\n",
    "plt.legend(title='')\n",
    "plt.xlabel('')\n",
    "plt.show()"
   ]
  },
  {
   "cell_type": "markdown",
   "metadata": {},
   "source": [
    "__Looks like diversity is expected to increase in the United States, but what about how that translates to the 85+ population?__"
   ]
  },
  {
   "cell_type": "code",
   "execution_count": null,
   "metadata": {},
   "outputs": [],
   "source": [
    "dfLongRace.head()"
   ]
  },
  {
   "cell_type": "code",
   "execution_count": null,
   "metadata": {},
   "outputs": [],
   "source": [
    "dfRacePivot = (\n",
    "    dfLongRace.query('AGE >= 85')\n",
    "    .pivot_table(index='YEAR', columns='RACE_DESC', values='POP', aggfunc='sum')\n",
    ")\n",
    "\n",
    "dfRacePivot.head()"
   ]
  },
  {
   "cell_type": "code",
   "execution_count": null,
   "metadata": {},
   "outputs": [],
   "source": [
    "(dfRacePivot/dfRacePivot.shift(1) - 1).plot(figsize=(10,6))\n",
    "plt.legend(title='')\n",
    "plt.xlabel('')\n",
    "plt.ylabel('')\n",
    "plt.title('Projected 85+ Population Growth Rates by Race', loc='left')\n",
    "plt.show()"
   ]
  },
  {
   "cell_type": "code",
   "execution_count": null,
   "metadata": {},
   "outputs": [],
   "source": []
  }
 ],
 "metadata": {
  "kernelspec": {
   "display_name": "Python 3 (ipykernel)",
   "language": "python",
   "name": "python3"
  },
  "language_info": {
   "codemirror_mode": {
    "name": "ipython",
    "version": 3
   },
   "file_extension": ".py",
   "mimetype": "text/x-python",
   "name": "python",
   "nbconvert_exporter": "python",
   "pygments_lexer": "ipython3",
   "version": "3.10.9"
  },
  "toc": {
   "base_numbering": 1,
   "nav_menu": {},
   "number_sections": false,
   "sideBar": true,
   "skip_h1_title": false,
   "title_cell": "Table of Contents",
   "title_sidebar": "Contents",
   "toc_cell": false,
   "toc_position": {
    "height": "calc(100% - 180px)",
    "left": "10px",
    "top": "150px",
    "width": "277.594px"
   },
   "toc_section_display": true,
   "toc_window_display": false
  }
 },
 "nbformat": 4,
 "nbformat_minor": 4
}
